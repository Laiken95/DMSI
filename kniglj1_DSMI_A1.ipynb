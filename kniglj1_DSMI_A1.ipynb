{
 "cells": [
  {
   "cell_type": "markdown",
   "metadata": {},
   "source": [
    "<div align=\"right\"><sub>Data Science and Machine Intelligence, Semester 2, 2017</sub>\n",
    "</div>\n",
    "\n",
    "\n",
    "# Assignment 1\n",
    "Due Date: Friday, September 1st, 5pm.\n",
    "\n",
    "Value: 25% of course mark\n",
    "\n",
    "Every numbered task is worth 1 mark.\n",
    "\n",
    "---"
   ]
  },
  {
   "cell_type": "markdown",
   "metadata": {},
   "source": [
    "### Exercise on Linear Regression   \n",
    "\n",
    "In this exercise, you will be working with statistical data about crime data in different cities that relate predictors/features such as educational level of the population, government expenditure on policing, individual income and inequality with crime in a given city.  The file containing the data set for this assignment is `crime.csv`.  Make sure you open the file and visually inspect it yourself to understand the structure of your data. \n",
    "\n",
    "To summarize, in this data set, the **features/predictors** ($X$) are:\n",
    "\n",
    "* Education: mean years of schooling of the population aged 25 years or over\n",
    "* Police: per capita expenditure on police protection\n",
    "* Income: Average per capita monthly income\n",
    "* Inequality: Income inequality is calculated as the percentage of families earning below half the median income\n",
    "\n",
    "and the **response variable/target/outcome** ($y$) is:\n",
    "\n",
    "* Crime: crime rate as number of offenses per 100,000 population\n",
    "\n",
    "you can load the data in memory and output the first 5 instances in the dataset using the following code:"
   ]
  },
  {
   "cell_type": "code",
   "execution_count": 1,
   "metadata": {},
   "outputs": [
    {
     "name": "stdout",
     "output_type": "stream",
     "text": [
      "   Education  Police  Income  Inequality  Crime\n",
      "1       12.1     5.8    3940        26.1    791\n",
      "2        7.3    10.3    5570        19.4   1635\n",
      "3       10.9     4.5    3180        25.0    578\n",
      "4        6.1    14.9    6730        16.7   1969\n",
      "5        7.1    10.9    5780        17.4   1234\n"
     ]
    }
   ],
   "source": [
    "import pandas as pd\n",
    "\n",
    "data = pd.read_csv('crime.csv', index_col=0)\n",
    "print(data.head())"
   ]
  },
  {
   "cell_type": "markdown",
   "metadata": {},
   "source": [
    "You can extract the feature matrix $X$ (education, police, income, inequality) and the target vector **y** (crime) using the following code:"
   ]
  },
  {
   "cell_type": "code",
   "execution_count": 2,
   "metadata": {
    "collapsed": true
   },
   "outputs": [],
   "source": [
    "import numpy as np\n",
    "from sklearn.utils import shuffle\n",
    "feature_cols = ['Education','Police','Income','Inequality']\n",
    "target = ['Crime']\n",
    "X = np.array(data[feature_cols])\n",
    "y = np.array(data[target])\n",
    "X, y = shuffle(X, y, random_state=1)"
   ]
  },
  {
   "cell_type": "markdown",
   "metadata": {},
   "source": [
    "1. Plot the Education predictor/feature variable against Crime (the predictor should be on the x axis and crime on the y axis). \n",
    "2. Plot the Police predictor/feature variable against Crime. \n",
    "3. Plot the Income predictor/feature variable against Crime. \n",
    "4. Plot the Inequality predictor/feature variable against Crime. \n",
    "5. Is the education variable positively or negatively correlated with crime?\n",
    "6. Is the police variable positively or negatively correlated with crime?\n",
    "7. Split the data in 2 halves: training set and test set\n",
    "8. Fit a multivariate linear regression model on the training data using all the features available\n",
    "9. What are the intercept ($\\theta_0$) and coefficients ($\\theta_1$, $\\theta_2$, $\\theta_3$ and $\\theta_4$) of the model?\n",
    "10. What is the $R^2$ score (i.e. the coefficient of determination that measures the proportion of the outcomes variation explained by the model) for the training data? and for the test data?\n",
    "10. Given the following imaginary cities with the provided values for the predictors education, police, income and inequality, which city should have the highest level of crime according to your model?:\n",
    "\n",
    "| City name        | education           | police  | income  | inequality |\n",
    "| ------------- |:-------------:| -----:| -----:| -----:|\n",
    "| City 1      | 10 | 5 | 6000  | 16   |\n",
    "| City 2      | 8 | 11 | 4500  | 25   |\n",
    "| City 3      | 6 | 8 | 3780  |  17  |\n",
    "| City 4      | 12 | 6 | 5634  |  22  |\n",
    "\n",
    "<ol start=\"12\">\n",
    "  \n",
    "<li>Re-instantiate your linear regression model with the parameter `fit_intercept` set to `False` and rerun your analysis on the entire feature matrix $X$. When we set the `fit_intercept` to `False` we are basically fitting a model with no intercept parameter $\\theta_0$. Output the coefficients you get for $\\theta_1 ... \\theta_4$.</li>\n",
    "<li>Calculate the coefficients for $\\theta_1 ... \\theta_4$ using the analytical/close form solution of linear regression. Make sure those estimates coincide with what you get in Exercise 12 to be certain you got it right. Use the matrix algebra functionality provided by the `numpy` library to find the optimal vector **$\\theta$**. Provide the line of code you created to calculate the solution.</li>\n",
    "</ol>"
   ]
  },
  {
   "cell_type": "markdown",
   "metadata": {},
   "source": [
    "### Exercise on Classification\n",
    "\n",
    "\"Churn Rate\" is a business term describing the rate at which customers leave or cease paying for a product or service. It's a critical figure in many businesses. Understanding what keeps customers engaged is valuable. Consequently, there's growing interest among companies to develop better churn-detection techniques. Predicting churn is particularly important for businesses with subscription models such as cell phone, pay-TV, or any type of service in exchange of a subscription fee. \n",
    "\n",
    "The data set we'll be using, `churn.csv`, is real data from a Telecommunications company customer data set. Each row represents a subscribing telephone customer. Each column contains customer attributes such as call minutes used during different times of day, charges incurred for services, lifetime account duration, etc. The last column is the label indicating whether the customer quit the service (1) or is still a customer of the telecom company (0). \n",
    "\n",
    "your task:\n",
    "\n",
    "<ol start=\"14\">\n",
    "  \n",
    "<li> Read the data from the file into the appropriate $X$ and $y$ data structures and shuffle it.</li>\n",
    "<li> Split the data into a training set and test set (test set size should be 33%)</li>\n",
    "<li> Scale the data using the StandardScaler class from scikit-learn</li>\n",
    "<li> Train a logistic regression model and estimate its performance on the test data</li>\n",
    "<li> Train a K nearest neighbors classifier and estimate its performance on the test data</li>\n",
    "<li> Train a Multilayer Perceptron (Artificial neural network) classifier and estimate its performance on the test data</li>\n",
    "<li> Train a support vector machine classifier (using a radial basis function as kernel) and estimate its performance on the test data</li>\n",
    "<li> Print out a confusion matrix for the support vector machine classifier</li>\n",
    "<li> Print out a classification report for the support vector machine classifier (displaying precision, recall and f1-score)</li>\n",
    "<li> Plot an ROC curve for the logistic regression model classifier</li>\n",
    "</ol>"
   ]
  },
  {
   "cell_type": "markdown",
   "metadata": {},
   "source": [
    "### Exercise on Regularization\n",
    "\n",
    "Using the Boston house prices [data set](http://scikit-learn.org/stable/modules/generated/sklearn.datasets.load_boston.html):\n",
    "\n",
    "<ol start=\"24\">\n",
    "<li> Fit a linear regression model using Ridge regularization and print out the coefficients of the model </li>\n",
    "<li> Fit a linear regression models using Lasso regularization and print out the coefficients of the model </li>\n",
    "<li> Describe what is most striking difference between the coefficients of Ridge and Lasso regression.</li>\n",
    "</ol>\n",
    "\n",
    "I provide you with some initial code to get you started:"
   ]
  },
  {
   "cell_type": "code",
   "execution_count": null,
   "metadata": {
    "collapsed": true
   },
   "outputs": [],
   "source": [
    "from sklearn.cross_validation import KFold\n",
    "from sklearn.linear_model import LinearRegression, Lasso, Ridge, ElasticNet, SGDRegressor\n",
    "import numpy as np\n",
    "import pylab as pl\n",
    "\n",
    "from sklearn.datasets import load_boston\n",
    "boston = load_boston()\n",
    "\n",
    "X = np.array([np.concatenate((v,[1])) for v in boston.data])\n",
    "y = boston.target\n",
    "\n",
    "from sklearn.cross_validation import train_test_split\n",
    "X_train, X_test, y_train, y_test = train_test_split(X, y, test_size=0.2, random_state=42)"
   ]
  },
  {
   "cell_type": "markdown",
   "metadata": {},
   "source": [
    "### Exercise on Validation\n",
    "\n",
    "<ol start=\"26\">\n",
    "\n",
    "<li> In your own words, explain what the last two lines of code do in the following code snippet: </li>"
   ]
  },
  {
   "cell_type": "code",
   "execution_count": null,
   "metadata": {
    "collapsed": true
   },
   "outputs": [],
   "source": [
    "from sklearn.datasets import load_digits\n",
    "digits = load_digits()\n",
    "X = digits.data\n",
    "y = digits.target\n",
    "\n",
    "from sklearn.neighbors import KNeighborsClassifier\n",
    "from sklearn.cross_validation import cross_val_score\n",
    "cv = cross_val_score(KNeighborsClassifier(1), X, y, cv=10)\n",
    "cv.mean()"
   ]
  },
  {
   "cell_type": "markdown",
   "metadata": {},
   "source": [
    "### Deliverables\n",
    "\n",
    "<ol start=\"27\">\n",
    "\n",
    "<li> You should hand in a single python notebook file (.ipynb) containing all the necessary code to answer each of the previously enumerated tasks. Include comments in the code to clarify which exercise your code snippet is trying to solve. Use separate code cells to organize your code. Use comments also to provide answers to each task when appropriate.  Please, make sure your code runs smoothly so I can execute it in my computer. Name your Python notebook according to the following pattern: `yourLastName_DSMI_A1.py`. Create your own private repository for you to work on the assignment by using the following link: https://classroom.github.com/a/ozIoYww6\n",
    "The notebook file and the data files should be available in your own private GitHub repository “https://github.com/OPClasses2/assignment1-YourGithubUserName”. \n",
    "</li>"
   ]
  }
 ],
 "metadata": {
  "anaconda-cloud": {},
  "kernelspec": {
   "display_name": "Python 3",
   "language": "python",
   "name": "python3"
  },
  "language_info": {
   "codemirror_mode": {
    "name": "ipython",
    "version": 3
   },
   "file_extension": ".py",
   "mimetype": "text/x-python",
   "name": "python",
   "nbconvert_exporter": "python",
   "pygments_lexer": "ipython3",
   "version": "3.6.1"
  }
 },
 "nbformat": 4,
 "nbformat_minor": 1
}
