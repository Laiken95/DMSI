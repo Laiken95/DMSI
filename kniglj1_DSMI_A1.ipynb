{
 "cells": [
  {
   "cell_type": "markdown",
   "metadata": {},
   "source": [
    "<div align=\"right\"><sub>Data Science and Machine Intelligence, Semester 2, 2017</sub>\n",
    "</div>\n",
    "\n",
    "\n",
    "# Assignment 1\n",
    "Due Date: Friday, September 1st, 5pm.\n",
    "\n",
    "Value: 25% of course mark\n",
    "\n",
    "Every numbered task is worth 1 mark.\n",
    "\n",
    "---"
   ]
  },
  {
   "cell_type": "markdown",
   "metadata": {},
   "source": [
    "### Exercise on Linear Regression   \n",
    "\n",
    "In this exercise, you will be working with statistical data about crime data in different cities that relate predictors/features such as educational level of the population, government expenditure on policing, individual income and inequality with crime in a given city.  The file containing the data set for this assignment is `crime.csv`.  Make sure you open the file and visually inspect it yourself to understand the structure of your data. \n",
    "\n",
    "To summarize, in this data set, the **features/predictors** ($X$) are:\n",
    "\n",
    "* Education: mean years of schooling of the population aged 25 years or over\n",
    "* Police: per capita expenditure on police protection\n",
    "* Income: Average per capita monthly income\n",
    "* Inequality: Income inequality is calculated as the percentage of families earning below half the median income\n",
    "\n",
    "and the **response variable/target/outcome** ($y$) is:\n",
    "\n",
    "* Crime: crime rate as number of offenses per 100,000 population\n",
    "\n",
    "you can load the data in memory and output the first 5 instances in the dataset using the following code:"
   ]
  },
  {
   "cell_type": "code",
   "execution_count": 292,
   "metadata": {},
   "outputs": [
    {
     "name": "stdout",
     "output_type": "stream",
     "text": [
      "   Education  Police  Income  Inequality  Crime\n",
      "1       12.1     5.8    3940        26.1    791\n",
      "2        7.3    10.3    5570        19.4   1635\n",
      "3       10.9     4.5    3180        25.0    578\n",
      "4        6.1    14.9    6730        16.7   1969\n",
      "5        7.1    10.9    5780        17.4   1234\n"
     ]
    }
   ],
   "source": [
    "import pandas as pd\n",
    "\n",
    "data = pd.read_csv('crime.csv', index_col=0)\n",
    "print(data.head())"
   ]
  },
  {
   "cell_type": "markdown",
   "metadata": {},
   "source": [
    "You can extract the feature matrix $X$ (education, police, income, inequality) and the target vector **y** (crime) using the following code:"
   ]
  },
  {
   "cell_type": "code",
   "execution_count": 293,
   "metadata": {
    "collapsed": true
   },
   "outputs": [],
   "source": [
    "import numpy as np\n",
    "from sklearn.utils import shuffle\n",
    "feature_cols = ['Education','Police','Income','Inequality']\n",
    "target = ['Crime']\n",
    "X = np.array(data[feature_cols])\n",
    "y = np.array(data[target])\n",
    "X, y = shuffle(X, y, random_state=1)"
   ]
  },
  {
   "cell_type": "markdown",
   "metadata": {},
   "source": [
    "1.Plot the Education predictor/feature variable against Crime (the predictor should be on the x axis and crime on the y axis). "
   ]
  },
  {
   "cell_type": "code",
   "execution_count": 294,
   "metadata": {},
   "outputs": [
    {
     "data": {
      "text/plain": [
       "<matplotlib.text.Text at 0x1cdad999a20>"
      ]
     },
     "execution_count": 294,
     "metadata": {},
     "output_type": "execute_result"
    },
    {
     "data": {
      "image/png": "[encoded data removed]",
      "text/plain": [
       "<matplotlib.figure.Figure at 0x1cdac323eb8>"
      ]
     },
     "metadata": {},
     "output_type": "display_data"
    }
   ],
   "source": [
    "import numpy as npy\n",
    "import pandas as pnd\n",
    "import pylab as pyl\n",
    "\n",
    "data = pnd.read_csv('crime.csv', index_col = 0)\n",
    "feature_cols = ['Education']\n",
    "target = ['Crime']\n",
    "X = npy.array(data[feature_cols])\n",
    "Y = npy.array(data[target])\n",
    "\n",
    "%matplotlib inline\n",
    "pyl.scatter(X, Y)\n",
    "pyl.xlabel('Education')\n",
    "pyl.ylabel('Crime')"
   ]
  },
  {
   "cell_type": "markdown",
   "metadata": {},
   "source": [
    "2.Plot the Police predictor/feature variable against Crime. "
   ]
  },
  {
   "cell_type": "code",
   "execution_count": 295,
   "metadata": {},
   "outputs": [
    {
     "data": {
      "text/plain": [
       "<matplotlib.text.Text at 0x1cdad99d630>"
      ]
     },
     "execution_count": 295,
     "metadata": {},
     "output_type": "execute_result"
    },
    {
     "data": {
      "image/png": "[encoded data removed]",
      "text/plain": [
       "<matplotlib.figure.Figure at 0x1cdad934240>"
      ]
     },
     "metadata": {},
     "output_type": "display_data"
    }
   ],
   "source": [
    "feature_cols = ['Police']\n",
    "X = npy.array(data[feature_cols])\n",
    "\n",
    "%matplotlib inline\n",
    "pyl.scatter(X, Y)\n",
    "pyl.xlabel('Police')"
   ]
  },
  {
   "cell_type": "markdown",
   "metadata": {},
   "source": [
    "3.Plot the Income predictor/feature variable against Crime. "
   ]
  },
  {
   "cell_type": "code",
   "execution_count": 296,
   "metadata": {},
   "outputs": [
    {
     "data": {
      "text/plain": [
       "<matplotlib.text.Text at 0x1cdad94cd68>"
      ]
     },
     "execution_count": 296,
     "metadata": {},
     "output_type": "execute_result"
    },
    {
     "data": {
      "image/png": "[encoded data removed]",
      "text/plain": [
       "<matplotlib.figure.Figure at 0x1cdadaae438>"
      ]
     },
     "metadata": {},
     "output_type": "display_data"
    }
   ],
   "source": [
    "feature_cols = ['Income']\n",
    "X = npy.array(data[feature_cols])\n",
    "\n",
    "%matplotlib inline\n",
    "pyl.scatter(X, Y)\n",
    "pyl.xlabel('Income')\n",
    "pyl.ylabel('Crime')"
   ]
  },
  {
   "cell_type": "markdown",
   "metadata": {},
   "source": [
    "4.Plot the Inequality predictor/feature variable against Crime. "
   ]
  },
  {
   "cell_type": "code",
   "execution_count": 297,
   "metadata": {},
   "outputs": [
    {
     "data": {
      "text/plain": [
       "<matplotlib.text.Text at 0x1cdadb51080>"
      ]
     },
     "execution_count": 297,
     "metadata": {},
     "output_type": "execute_result"
    },
    {
     "data": {
      "image/png": "[encoded data removed]",
      "text/plain": [
       "<matplotlib.figure.Figure at 0x1cdad7d08d0>"
      ]
     },
     "metadata": {},
     "output_type": "display_data"
    }
   ],
   "source": [
    "feature_cols = ['Inequality']\n",
    "X = npy.array(data[feature_cols])\n",
    "\n",
    "%matplotlib inline\n",
    "pyl.scatter(X, Y)\n",
    "pyl.xlabel('Inequality')\n",
    "pyl.ylabel('Crime')"
   ]
  },
  {
   "cell_type": "markdown",
   "metadata": {},
   "source": [
    "5.Is the education variable positively or negatively correlated with crime?"
   ]
  },
  {
   "cell_type": "code",
   "execution_count": 298,
   "metadata": {},
   "outputs": [
    {
     "data": {
      "text/plain": [
       "<matplotlib.text.Text at 0x1cdadbf5cc0>"
      ]
     },
     "execution_count": 298,
     "metadata": {},
     "output_type": "execute_result"
    },
    {
     "data": {
      "image/png": "[encoded data removed]",
      "text/plain": [
       "<matplotlib.figure.Figure at 0x1cdad8ba518>"
      ]
     },
     "metadata": {},
     "output_type": "display_data"
    }
   ],
   "source": [
    "#Education negatively corrolates with crime as seen in the following graph.\n",
    "from sklearn import linear_model\n",
    "\n",
    "feature_cols = ['Education']\n",
    "X = npy.array(data[feature_cols])\n",
    "\n",
    "lnmd = linear_model.LinearRegression()\n",
    "lnmd.fit(X, Y);\n",
    "\n",
    "%matplotlib inline\n",
    "pyl.scatter(X, Y)\n",
    "pyl.plot(X, lnmd.predict (X.reshape(-1 , 1)), color = 'green', linewidth = 2);\n",
    "pyl.xlabel('Education')\n",
    "pyl.ylabel('Crime')"
   ]
  },
  {
   "cell_type": "markdown",
   "metadata": {},
   "source": [
    "6.Is the police variable positively or negatively correlated with crime?"
   ]
  },
  {
   "cell_type": "code",
   "execution_count": 299,
   "metadata": {},
   "outputs": [
    {
     "data": {
      "text/plain": [
       "<matplotlib.text.Text at 0x1cdadbe44e0>"
      ]
     },
     "execution_count": 299,
     "metadata": {},
     "output_type": "execute_result"
    },
    {
     "data": {
      "image/png": "[encoded data removed]",
      "text/plain": [
       "<matplotlib.figure.Figure at 0x1cdada7deb8>"
      ]
     },
     "metadata": {},
     "output_type": "display_data"
    }
   ],
   "source": [
    "#Police positively corrolates with crime as seen in the following graph.\n",
    "\n",
    "feature_cols = ['Police']\n",
    "X = npy.array(data[feature_cols])\n",
    "\n",
    "%matplotlib inline\n",
    "pyl.scatter(X, Y)\n",
    "pyl.plot(X, lnmd.predict (X.reshape(-1 , 1)), color = 'green', linewidth = 2);\n",
    "pyl.xlabel('Police')\n",
    "pyl.ylabel('Crime')"
   ]
  },
  {
   "cell_type": "markdown",
   "metadata": {},
   "source": [
    "7.Split the data in 2 halves: training set and test set"
   ]
  },
  {
   "cell_type": "code",
   "execution_count": 300,
   "metadata": {
    "collapsed": true
   },
   "outputs": [],
   "source": [
    "from sklearn.utils import shuffle\n",
    "from sklearn.cross_validation import train_test_split\n",
    "\n",
    "feature_cols = ['Education', 'Police', 'Inequality', 'Income']\n",
    "\n",
    "X = npy.array(data[feature_cols])\n",
    "X_train, X_test, Y_train, Y_test = train_test_split(X, Y, test_size = 0.5)"
   ]
  },
  {
   "cell_type": "markdown",
   "metadata": {},
   "source": [
    "8.Fit a multivariate linear regression model on the training data using all the features available"
   ]
  },
  {
   "cell_type": "code",
   "execution_count": 301,
   "metadata": {},
   "outputs": [
    {
     "data": {
      "text/plain": [
       "LinearRegression(copy_X=True, fit_intercept=True, n_jobs=1, normalize=False)"
      ]
     },
     "execution_count": 301,
     "metadata": {},
     "output_type": "execute_result"
    }
   ],
   "source": [
    "feature_cols = ['Education', 'Police', 'Inequality', 'Income']\n",
    "\n",
    "X = npy.array(data[feature_cols])\n",
    "Y = npy.array(data[target])\n",
    "\n",
    "X_train, X_test, Y_train, Y_test = train_test_split(X, Y, test_size = 0.33, random_state = 42)\n",
    "\n",
    "lnmd = linear_model.LinearRegression()\n",
    "lnmd.fit(X_train, Y_train)"
   ]
  },
  {
   "cell_type": "markdown",
   "metadata": {},
   "source": [
    "9.What are the intercept ($\\theta_0$) and coefficients ($\\theta_1$, $\\theta_2$, $\\theta_3$ and $\\theta_4$) of the model?"
   ]
  },
  {
   "cell_type": "code",
   "execution_count": 302,
   "metadata": {},
   "outputs": [
    {
     "name": "stdout",
     "output_type": "stream",
     "text": [
      "Intercept:  [-50.37301693]\n",
      "Coefficients:  [[-98.08628919  40.55074375  36.33780423   0.16106149]]\n"
     ]
    }
   ],
   "source": [
    "print(\"Intercept: \", lnmd.intercept_)\n",
    "print(\"Coefficients: \", lnmd.coef_)"
   ]
  },
  {
   "cell_type": "markdown",
   "metadata": {},
   "source": [
    "10.What is the $R^2$ score (i.e. the coefficient of determination that measures the proportion of the outcomes variation explained by the model) for the training data? and for the test data?"
   ]
  },
  {
   "cell_type": "code",
   "execution_count": 303,
   "metadata": {},
   "outputs": [
    {
     "name": "stdout",
     "output_type": "stream",
     "text": [
      "Training:  0.553071615997\n",
      "Test:  0.780943561673\n"
     ]
    }
   ],
   "source": [
    "print(\"Training: \", lnmd.score(X_train, Y_train))\n",
    "print(\"Test: \", lnmd.score(X_test, Y_test))"
   ]
  },
  {
   "cell_type": "markdown",
   "metadata": {},
   "source": [
    "11.Given the following imaginary cities with the provided values for the predictors education, police, income and inequality, which city should have the highest level of crime according to your model?:\n",
    "\n",
    "| City name        | education           | police  | income  | inequality |\n",
    "| ------------- |:-------------:| -----:| -----:| -----:|\n",
    "| City 1      | 10 | 5 | 6000  | 16   |\n",
    "| City 2      | 8 | 11 | 4500  | 25   |\n",
    "| City 3      | 6 | 8 | 3780  |  17  |\n",
    "| City 4      | 12 | 6 | 5634  |  22  |"
   ]
  },
  {
   "cell_type": "code",
   "execution_count": 304,
   "metadata": {},
   "outputs": [
    {
     "name": "stdout",
     "output_type": "stream",
     "text": [
      "[[ 217200.92017176]\n",
      " [ 163135.14042152]\n",
      " [ 137045.15323138]\n",
      " [ 203746.62835801]]\n"
     ]
    }
   ],
   "source": [
    "#City 1 has the highest predicted level of crime\n",
    "city = [[10,5,6000,16], [8,11,4500,25], [6,8,3780,17], [12,6,5634,22]]\n",
    "print(lnmd.predict(city))"
   ]
  },
  {
   "cell_type": "markdown",
   "metadata": {},
   "source": [
    "<ol start=\"12\">\n",
    "  \n",
    "<li>Re-instantiate your linear regression model with the parameter `fit_intercept` set to `False` and rerun your analysis on the entire feature matrix $X$. When we set the `fit_intercept` to `False` we are basically fitting a model with no intercept parameter $\\theta_0$. Output the coefficients you get for $\\theta_1 ... \\theta_4$.</li>"
   ]
  },
  {
   "cell_type": "code",
   "execution_count": 305,
   "metadata": {},
   "outputs": [
    {
     "name": "stdout",
     "output_type": "stream",
     "text": [
      "Coefficients:  [[-98.89956003  40.35994969  35.28412482   0.15720672]]\n"
     ]
    }
   ],
   "source": [
    "lnmd.set_params(fit_intercept=False)\n",
    "lnmd.fit(X_train, Y_train)\n",
    "\n",
    "print(\"Coefficients: \", lnmd.coef_)"
   ]
  },
  {
   "cell_type": "markdown",
   "metadata": {},
   "source": [
    "<li>Calculate the coefficients for $\\theta_1 ... \\theta_4$ using the analytical/close form solution of linear regression. Make sure those estimates coincide with what you get in Exercise 12 to be certain you got it right. Use the matrix algebra functionality provided by the `numpy` library to find the optimal vector **$\\theta$**. Provide the line of code you created to calculate the solution.</li>\n",
    "</ol>"
   ]
  },
  {
   "cell_type": "code",
   "execution_count": 306,
   "metadata": {},
   "outputs": [],
   "source": [
    "#Cant figure this one out"
   ]
  },
  {
   "cell_type": "markdown",
   "metadata": {},
   "source": [
    "### Exercise on Classification\n",
    "\n",
    "\"Churn Rate\" is a business term describing the rate at which customers leave or cease paying for a product or service. It's a critical figure in many businesses. Understanding what keeps customers engaged is valuable. Consequently, there's growing interest among companies to develop better churn-detection techniques. Predicting churn is particularly important for businesses with subscription models such as cell phone, pay-TV, or any type of service in exchange of a subscription fee. \n",
    "\n",
    "The data set we'll be using, `churn.csv`, is real data from a Telecommunications company customer data set. Each row represents a subscribing telephone customer. Each column contains customer attributes such as call minutes used during different times of day, charges incurred for services, lifetime account duration, etc. The last column is the label indicating whether the customer quit the service (1) or is still a customer of the telecom company (0). \n",
    "\n",
    "your task:\n",
    "\n",
    "<ol start=\"14\">\n",
    "  \n",
    "<li> Read the data from the file into the appropriate $X$ and $y$ data structures and shuffle it.</li>"
   ]
  },
  {
   "cell_type": "code",
   "execution_count": 307,
   "metadata": {},
   "outputs": [
    {
     "name": "stdout",
     "output_type": "stream",
     "text": [
      "(3333, 17)\n",
      "(3333, 1)\n"
     ]
    }
   ],
   "source": [
    "data = pnd.read_csv('churn.csv', index_col = 0)\n",
    "\n",
    "target = ['label']\n",
    "X = npy.array(data.iloc[:,:-1])\n",
    "Y = npy.array(data[target])\n",
    "X, Y = shuffle(X, Y, random_state = 1)\n",
    "print(X.shape)\n",
    "print(Y.shape)"
   ]
  },
  {
   "cell_type": "markdown",
   "metadata": {},
   "source": [
    "<li> Split the data into a training set and test set (test set size should be 33%)</li>"
   ]
  },
  {
   "cell_type": "code",
   "execution_count": 308,
   "metadata": {
    "collapsed": true
   },
   "outputs": [],
   "source": [
    "X_train, X_test, Y_train, Y_test = train_test_split(X, Y, test_size = 0.33)"
   ]
  },
  {
   "cell_type": "markdown",
   "metadata": {},
   "source": [
    "<li> Scale the data using the StandardScaler class from scikit-learn</li>"
   ]
  },
  {
   "cell_type": "code",
   "execution_count": 309,
   "metadata": {},
   "outputs": [
    {
     "name": "stdout",
     "output_type": "stream",
     "text": [
      "[[-0.18193326 -0.3187915  -0.62067361 ...,  0.62730868 -0.18348973\n",
      "  -0.43446252]\n",
      " [ 1.9255945   3.13684648  1.61115276 ..., -0.19378175 -0.03338455\n",
      "   1.83049033]\n",
      " [-0.97535548  3.13684648  1.61115276 ..., -0.60432697  1.0992273\n",
      "  -1.1894468 ]\n",
      " ..., \n",
      " [-0.85138326 -0.3187915  -0.62067361 ...,  0.62730868  0.96276804\n",
      "  -1.1894468 ]\n",
      " [ 0.21477785 -0.3187915  -0.62067361 ..., -0.19378175  0.55339027\n",
      "  -0.43446252]\n",
      " [ 1.10737784 -0.3187915  -0.62067361 ..., -0.19378175  0.7307873\n",
      "   1.07550605]]\n",
      "[[ 2.05171766 -0.34499768 -0.61377594 ...,  0.20130578 -1.22828081\n",
      "   1.1286799 ]\n",
      " [ 0.32235981 -0.34499768  1.62925905 ...,  0.20130578 -0.2709677\n",
      "   1.90030693]\n",
      " [ 0.96764259 -0.34499768 -0.61377594 ...,  0.99783943  0.50999825\n",
      "   1.1286799 ]\n",
      " ..., \n",
      " [-0.47779083 -0.34499768 -0.61377594 ..., -1.39176153 -1.08972234\n",
      "   1.90030693]\n",
      " [ 0.96764259 -0.34499768 -0.61377594 ..., -0.59522788  1.73183209\n",
      "  -0.41457416]\n",
      " [ 0.03843539 -0.34499768 -0.61377594 ...,  0.59957261  1.87039057\n",
      "  -0.41457416]]\n"
     ]
    }
   ],
   "source": [
    "from sklearn.preprocessing import StandardScaler\n",
    "sclr = StandardScaler()\n",
    "X_train_scaled = sclr.fit_transform(X_train)\n",
    "X_test_scaled = sclr.fit_transform(X_test)\n",
    "\n",
    "print(X_train_scaled)\n",
    "print(X_test_scaled)"
   ]
  },
  {
   "cell_type": "markdown",
   "metadata": {},
   "source": [
    "<li> Train a logistic regression model and estimate its performance on the test data</li>"
   ]
  },
  {
   "cell_type": "code",
   "execution_count": 310,
   "metadata": {},
   "outputs": [
    {
     "name": "stdout",
     "output_type": "stream",
     "text": [
      "Accuracy test:  0.872727272727\n"
     ]
    }
   ],
   "source": [
    "from sklearn import linear_model\n",
    "lgst = linear_model.LogisticRegression()\n",
    "lgst.fit(X_train_scaled, Y_train.ravel())\n",
    "print(\"Accuracy test: \", lgst.score(X_test_scaled, Y_test))"
   ]
  },
  {
   "cell_type": "markdown",
   "metadata": {},
   "source": [
    "<li> Train a K nearest neighbors classifier and estimate its performance on the test data</li>"
   ]
  },
  {
   "cell_type": "code",
   "execution_count": 311,
   "metadata": {},
   "outputs": [
    {
     "name": "stdout",
     "output_type": "stream",
     "text": [
      "Accuracy test:  0.873636363636\n"
     ]
    }
   ],
   "source": [
    "from sklearn.neighbors import KNeighborsClassifier\n",
    "\n",
    "nbrs = KNeighborsClassifier(n_neighbors = 1)\n",
    "\n",
    "nbrs.fit(X_train_scaled, Y_train.ravel())\n",
    "print(\"Accuracy test: \", nbrs.score(X_test_scaled, Y_test))"
   ]
  },
  {
   "cell_type": "markdown",
   "metadata": {},
   "source": [
    "<li> Train a Multilayer Perceptron (Artificial neural network) classifier and estimate its performance on the test data</li>"
   ]
  },
  {
   "cell_type": "code",
   "execution_count": 312,
   "metadata": {},
   "outputs": [
    {
     "name": "stdout",
     "output_type": "stream",
     "text": [
      "Accuracy test:  0.931818181818\n"
     ]
    }
   ],
   "source": [
    "from sklearn.neural_network import MLPClassifier\n",
    "mdcl = MLPClassifier(solver = 'lbfgs', alpha = 1e-5, hidden_layer_sizes = (5, 2), random_state = 1)\n",
    "\n",
    "mdcl.fit(X_train_scaled, Y_train.ravel())\n",
    "print(\"Accuracy test: \", mdcl.score(X_test_scaled, Y_test))"
   ]
  },
  {
   "cell_type": "markdown",
   "metadata": {},
   "source": [
    "<li> Train a support vector machine classifier (using a radial basis function as kernel) and estimate its performance on the test data</li>"
   ]
  },
  {
   "cell_type": "code",
   "execution_count": 313,
   "metadata": {},
   "outputs": [
    {
     "name": "stdout",
     "output_type": "stream",
     "text": [
      "Accuracy test:  0.93\n"
     ]
    }
   ],
   "source": [
    "from sklearn import svm\n",
    "\n",
    "svmd = svm.SVC(kernel = 'rbf').fit(X_train_scaled, Y_train.ravel())\n",
    "print(\"Accuracy test: \", svmd.score(X_test_scaled, Y_test))"
   ]
  },
  {
   "cell_type": "markdown",
   "metadata": {},
   "source": [
    "<li> Print out a confusion matrix for the support vector machine classifier</li>"
   ]
  },
  {
   "cell_type": "code",
   "execution_count": 314,
   "metadata": {},
   "outputs": [
    {
     "data": {
      "text/plain": [
       "array([[944,  10],\n",
       "       [ 67,  79]])"
      ]
     },
     "execution_count": 314,
     "metadata": {},
     "output_type": "execute_result"
    }
   ],
   "source": [
    "from sklearn.metrics import confusion_matrix\n",
    "\n",
    "ypred = svmd.fit(X_train_scaled, Y_train.ravel()).predict(X_test_scaled)\n",
    "confusion_matrix(Y_test, ypred)"
   ]
  },
  {
   "cell_type": "markdown",
   "metadata": {},
   "source": [
    "<li> Print out a classification report for the support vector machine classifier (displaying precision, recall and f1-score)</li>"
   ]
  },
  {
   "cell_type": "code",
   "execution_count": 315,
   "metadata": {},
   "outputs": [
    {
     "name": "stdout",
     "output_type": "stream",
     "text": [
      "             precision    recall  f1-score   support\n",
      "\n",
      "          0       0.93      0.99      0.96       954\n",
      "          1       0.89      0.54      0.67       146\n",
      "\n",
      "avg / total       0.93      0.93      0.92      1100\n",
      "\n"
     ]
    }
   ],
   "source": [
    "from sklearn.metrics import classification_report\n",
    "\n",
    "print(classification_report(Y_test, ypred))"
   ]
  },
  {
   "cell_type": "markdown",
   "metadata": {},
   "source": [
    "<li> Plot an ROC curve for the logistic regression model classifier</li>\n",
    "</ol>"
   ]
  },
  {
   "cell_type": "code",
   "execution_count": 316,
   "metadata": {},
   "outputs": [
    {
     "data": {
      "image/png": "[encoded data removed]",
      "text/plain": [
       "<matplotlib.figure.Figure at 0x1cdadd03fd0>"
      ]
     },
     "metadata": {},
     "output_type": "display_data"
    }
   ],
   "source": [
    "from sklearn.metrics import roc_curve\n",
    "from sklearn import metrics\n",
    "\n",
    "yppb = lgst.predict_proba(X_test_scaled)[:, 1]\n",
    "fpr, tpr, thresholds = metrics.roc_curve(Y_test, yppb)\n",
    "\n",
    "pyl.xlabel('False Positive')\n",
    "pyl.ylabel('True Positive')\n",
    "\n",
    "pyl.plot(fpr, tpr)\n",
    "pyl.grid()\n",
    "pyl.show()"
   ]
  },
  {
   "cell_type": "markdown",
   "metadata": {},
   "source": [
    "### Exercise on Regularization\n",
    "\n",
    "Using the Boston house prices [data set](http://scikit-learn.org/stable/modules/generated/sklearn.datasets.load_boston.html):\n",
    "\n",
    "<ol start=\"24\">\n",
    "<li> Fit a linear regression model using Ridge regularization and print out the coefficients of the model </li>\n",
    "<li> Fit a linear regression models using Lasso regularization and print out the coefficients of the model </li>\n",
    "<li> Describe what is most striking difference between the coefficients of Ridge and Lasso regression.</li>\n",
    "</ol>\n",
    "\n",
    "I provide you with some initial code to get you started:"
   ]
  },
  {
   "cell_type": "code",
   "execution_count": 317,
   "metadata": {},
   "outputs": [
    {
     "name": "stdout",
     "output_type": "stream",
     "text": [
      "[ -1.08489479e-01   3.22400316e-02   7.77654514e-03   2.54761103e+00\n",
      "  -9.55753719e+00   4.45865999e+00  -1.21518880e-02  -1.33895694e+00\n",
      "   2.48449389e-01  -1.14685460e-02  -8.29311305e-01   1.27409150e-02\n",
      "  -5.24630178e-01   0.00000000e+00]\n",
      "[-0.07681362  0.02850907 -0.          0.         -0.          1.62599543\n",
      "  0.01641762 -0.63134137  0.21971739 -0.01228196 -0.70892381  0.0112454\n",
      " -0.74758328  0.        ]\n"
     ]
    }
   ],
   "source": [
    "from sklearn.cross_validation import KFold\n",
    "from sklearn.linear_model import LinearRegression, Lasso, Ridge, ElasticNet, SGDRegressor\n",
    "\n",
    "from sklearn.datasets import load_boston\n",
    "boston = load_boston()\n",
    "\n",
    "X = np.array([np.concatenate((v,[1])) for v in boston.data])\n",
    "Y = boston.target\n",
    "\n",
    "from sklearn.cross_validation import train_test_split\n",
    "X_train, X_test, Y_train, Y_test = train_test_split(X, Y, test_size=0.2, random_state=42)\n",
    "\n",
    "#24\n",
    "rdge = Ridge(alpha = 1.0)\n",
    "rdge.fit(X_train, Y_train)\n",
    "print(rdge.coef_)\n",
    "\n",
    "#25\n",
    "lsso = Lasso(alpha = 1.0)\n",
    "lsso.fit(X_train, Y_train)\n",
    "print(lsso.coef_)"
   ]
  },
  {
   "cell_type": "markdown",
   "metadata": {},
   "source": [
    "### Exercise on Validation\n",
    "\n",
    "<ol start=\"26\">\n",
    "\n",
    "<li> In your own words, explain what the last two lines of code do in the following code snippet: </li>"
   ]
  },
  {
   "cell_type": "code",
   "execution_count": 318,
   "metadata": {},
   "outputs": [
    {
     "data": {
      "text/plain": [
       "0.97614938602520218"
      ]
     },
     "execution_count": 318,
     "metadata": {},
     "output_type": "execute_result"
    }
   ],
   "source": [
    "from sklearn.datasets import load_digits\n",
    "digits = load_digits()\n",
    "X = digits.data\n",
    "y = digits.target\n",
    "\n",
    "from sklearn.neighbors import KNeighborsClassifier\n",
    "from sklearn.cross_validation import cross_val_score\n",
    "cv = cross_val_score(KNeighborsClassifier(1), X, y, cv=10)\n",
    "cv.mean()"
   ]
  },
  {
   "cell_type": "markdown",
   "metadata": {},
   "source": [
    "### Deliverables\n",
    "\n",
    "<ol start=\"27\">\n",
    "\n",
    "<li> You should hand in a single python notebook file (.ipynb) containing all the necessary code to answer each of the previously enumerated tasks. Include comments in the code to clarify which exercise your code snippet is trying to solve. Use separate code cells to organize your code. Use comments also to provide answers to each task when appropriate.  Please, make sure your code runs smoothly so I can execute it in my computer. Name your Python notebook according to the following pattern: `yourLastName_DSMI_A1.py`. Create your own private repository for you to work on the assignment by using the following link: https://classroom.github.com/a/ozIoYww6\n",
    "The notebook file and the data files should be available in your own private GitHub repository “https://github.com/OPClasses2/assignment1-YourGithubUserName”. \n",
    "</li>"
   ]
  }
 ],
 "metadata": {
  "anaconda-cloud": {},
  "kernelspec": {
   "display_name": "Python 3",
   "language": "python",
   "name": "python3"
  },
  "language_info": {
   "codemirror_mode": {
    "name": "ipython",
    "version": 3
   },
   "file_extension": ".py",
   "mimetype": "text/x-python",
   "name": "python",
   "nbconvert_exporter": "python",
   "pygments_lexer": "ipython3",
   "version": "3.6.1"
  }
 },
 "nbformat": 4,
 "nbformat_minor": 1
}
